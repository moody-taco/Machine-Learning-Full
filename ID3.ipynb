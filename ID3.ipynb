{
 "cells": [
  {
   "cell_type": "code",
   "execution_count": 1,
   "metadata": {},
   "outputs": [],
   "source": [
    "import pandas as pd\n",
    "import numpy as np\n",
    "import math\n",
    "import random\n",
    "import matplotlib.pyplot as plt\n",
    "import seaborn as sns\n",
    "from sklearn.model_selection import train_test_split"
   ]
  },
  {
   "cell_type": "code",
   "execution_count": 16,
   "metadata": {},
   "outputs": [
    {
     "data": {
      "text/html": [
       "<div>\n",
       "<style scoped>\n",
       "    .dataframe tbody tr th:only-of-type {\n",
       "        vertical-align: middle;\n",
       "    }\n",
       "\n",
       "    .dataframe tbody tr th {\n",
       "        vertical-align: top;\n",
       "    }\n",
       "\n",
       "    .dataframe thead th {\n",
       "        text-align: right;\n",
       "    }\n",
       "</style>\n",
       "<table border=\"1\" class=\"dataframe\">\n",
       "  <thead>\n",
       "    <tr style=\"text-align: right;\">\n",
       "      <th></th>\n",
       "      <th>Day</th>\n",
       "      <th>Outlook</th>\n",
       "      <th>Temperature</th>\n",
       "      <th>Humidity</th>\n",
       "      <th>Wind</th>\n",
       "      <th>play</th>\n",
       "    </tr>\n",
       "  </thead>\n",
       "  <tbody>\n",
       "    <tr>\n",
       "      <th>0</th>\n",
       "      <td>D1</td>\n",
       "      <td>Sunny</td>\n",
       "      <td>Hot</td>\n",
       "      <td>High</td>\n",
       "      <td>Weak</td>\n",
       "      <td>No</td>\n",
       "    </tr>\n",
       "    <tr>\n",
       "      <th>1</th>\n",
       "      <td>D2</td>\n",
       "      <td>Sunny</td>\n",
       "      <td>Hot</td>\n",
       "      <td>High</td>\n",
       "      <td>Strong</td>\n",
       "      <td>No</td>\n",
       "    </tr>\n",
       "    <tr>\n",
       "      <th>2</th>\n",
       "      <td>D3</td>\n",
       "      <td>Overcast</td>\n",
       "      <td>Hot</td>\n",
       "      <td>High</td>\n",
       "      <td>Weak</td>\n",
       "      <td>Yes</td>\n",
       "    </tr>\n",
       "    <tr>\n",
       "      <th>3</th>\n",
       "      <td>D4</td>\n",
       "      <td>Rain</td>\n",
       "      <td>Mild</td>\n",
       "      <td>High</td>\n",
       "      <td>Weak</td>\n",
       "      <td>Yes</td>\n",
       "    </tr>\n",
       "    <tr>\n",
       "      <th>4</th>\n",
       "      <td>D5</td>\n",
       "      <td>Rain</td>\n",
       "      <td>Cool</td>\n",
       "      <td>Normal</td>\n",
       "      <td>Weak</td>\n",
       "      <td>Yes</td>\n",
       "    </tr>\n",
       "  </tbody>\n",
       "</table>\n",
       "</div>"
      ],
      "text/plain": [
       "  Day   Outlook Temperature Humidity    Wind play\n",
       "0  D1     Sunny         Hot     High    Weak   No\n",
       "1  D2     Sunny         Hot     High  Strong   No\n",
       "2  D3  Overcast         Hot     High    Weak  Yes\n",
       "3  D4      Rain        Mild     High    Weak  Yes\n",
       "4  D5      Rain        Cool   Normal    Weak  Yes"
      ]
     },
     "execution_count": 16,
     "metadata": {},
     "output_type": "execute_result"
    }
   ],
   "source": [
    "df = pd.read_csv(\n",
    " 'Datasets/Play Tennis.csv')\n",
    "df.head()"
   ]
  },
  {
   "cell_type": "code",
   "execution_count": 4,
   "metadata": {},
   "outputs": [],
   "source": [
    "def entropy(target_col):\n",
    " elements, counts = np.unique(target_col, return_counts=True)\n",
    " entropy = np.sum([(-counts[i] / np.sum(counts)) * np.log2(counts[i] / np.sum(counts)) for i in range(len(elements))])\n",
    " return entropy"
   ]
  },
  {
   "cell_type": "code",
   "execution_count": 5,
   "metadata": {},
   "outputs": [],
   "source": [
    "def InfoGain(data, split_attribute_name, target_name=\"play\"):\n",
    " total_entropy = entropy(data[target_name])\n",
    " vals, counts = np.unique(data[split_attribute_name], return_counts=True)\n",
    " Weighted_Entropy = np.sum([(counts[i] / np.sum(counts)) * entropy(data.where(data[split_attribute_name] == vals[i]).dropna()[target_name])\n",
    "    for i in range(len(vals))])\n",
    " Information_Gain = total_entropy - Weighted_Entropy\n",
    " return Information_Gain"
   ]
  },
  {
   "cell_type": "code",
   "execution_count": 7,
   "metadata": {},
   "outputs": [],
   "source": [
    "def ID3(data, originaldata, features, target_attribute_name=\"play\", parent_node_class=None):\n",
    " if len(np.unique(data[target_attribute_name])) <= 1:\n",
    "    return np.unique(data[target_attribute_name])[0]\n",
    " elif len(data) == 0:\n",
    "    return np.unique(originaldata[target_attribute_name])[np.argmax(np.unique(originaldata[target_attribute_name], return_counts=True)[1])]\n",
    " elif len(features) == 0:\n",
    "    return parent_node_class\n",
    " else:\n",
    "    parent_node_class = np.unique(data[target_attribute_name])[np.argmax(np.unique(data[target_attribute_name], return_counts=True)[1])] \n",
    "    item_values = [InfoGain(data, feature, target_attribute_name) for feature in features]\n",
    " best_feature_index = np.argmax(item_values)\n",
    " best_feature = features[best_feature_index]\n",
    " tree = {best_feature: {}}\n",
    " features = [i for i in features if i !=best_feature]\n",
    " for value in np.unique(data[best_feature]):\n",
    "    value = value\n",
    "    sub_data = data.where(data[best_feature] == value).dropna()\n",
    " subtree = ID3(sub_data, data, features, target_attribute_name, parent_node_class)\n",
    " tree[best_feature][value] = subtree\n",
    " return tree "
   ]
  },
  {
   "cell_type": "code",
   "execution_count": 8,
   "metadata": {},
   "outputs": [],
   "source": [
    "def gini(x):\n",
    " elements, counts = np.unique(x, return_counts=True)\n",
    " gini = np.sum([(-counts[i] / np.sum(counts)) * np.log2(counts[i] / np.sum(counts)) for i in range(len(elements))])\n",
    " return gini"
   ]
  },
  {
   "cell_type": "code",
   "execution_count": 10,
   "metadata": {},
   "outputs": [],
   "source": [
    "def giniIndex(data, target_name=\"play\"):\n",
    " total_gini = gini(data[target_name])\n",
    " vals, counts = np.unique(data[target_name], return_counts=True)\n",
    " Weighted_gini = np.sum([(counts[i] / np.sum(counts)) *\n",
    "gini(data.where(data[target_name] == vals[i]).dropna()[target_name])\n",
    "for i in range(len(vals))])\n",
    " Information_gini = total_gini - Weighted_gini\n",
    " return Information_gini"
   ]
  },
  {
   "cell_type": "code",
   "execution_count": 17,
   "metadata": {},
   "outputs": [
    {
     "name": "stdout",
     "output_type": "stream",
     "text": [
      "0.24674981977443933\n",
      "0.02922256565895487\n",
      "0.15183550136234159\n",
      "0.04812703040826949\n",
      "0.9402859586706311\n",
      "       play\n",
      "0  0.940286\n"
     ]
    },
    {
     "data": {
      "image/png": "[encoded data removed]",
      "text/plain": [
       "<Figure size 432x288 with 1 Axes>"
      ]
     },
     "metadata": {
      "needs_background": "light"
     },
     "output_type": "display_data"
    },
    {
     "name": "stdout",
     "output_type": "stream",
     "text": [
      "\n",
      "{'Day': {'D9': 'Yes'}}\n"
     ]
    }
   ],
   "source": [
    "def main():\n",
    " data = df\n",
    " originaldata = df\n",
    " features = np.array(data.columns)[:-1]\n",
    " tree = ID3(data, originaldata, features)\n",
    " #info gain\n",
    " print(InfoGain(data, 'Outlook', 'play'))\n",
    " print(InfoGain(data, 'Temperature', 'play'))\n",
    " print(InfoGain(data, 'Humidity', 'play'))\n",
    " print(InfoGain(data, 'Wind', 'play'))\n",
    " #entropy\n",
    " print(entropy(data['play']))\n",
    " #print gini as a table\n",
    " table = pd.DataFrame(columns=['play'])\n",
    " table.loc[0] = [giniIndex(data, 'play')]\n",
    " print(table)\n",
    " #print gini as a graph\n",
    " sns.barplot(x=table.columns, y=table.loc[0])\n",
    " plt.show()\n",
    " #print tree\n",
    " print()\n",
    " print(tree)\n",
    "main()"
   ]
  },
  {
   "cell_type": "code",
   "execution_count": null,
   "metadata": {},
   "outputs": [],
   "source": []
  }
 ],
 "metadata": {
  "kernelspec": {
   "display_name": "Python 3.8.10 64-bit (windows store)",
   "language": "python",
   "name": "python3"
  },
  "language_info": {
   "codemirror_mode": {
    "name": "ipython",
    "version": 3
   },
   "file_extension": ".py",
   "mimetype": "text/x-python",
   "name": "python",
   "nbconvert_exporter": "python",
   "pygments_lexer": "ipython3",
   "version": "3.8.10"
  },
  "orig_nbformat": 4,
  "vscode": {
   "interpreter": {
    "hash": "2c6705cc57ed747ef2461007aee654db1d4f83bc8f2450a7e48810799b9c4610"
   }
  }
 },
 "nbformat": 4,
 "nbformat_minor": 2
}
