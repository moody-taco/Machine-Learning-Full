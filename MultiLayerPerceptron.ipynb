{
 "cells": [
  {
   "cell_type": "markdown",
   "metadata": {},
   "source": [
    "<h1>Multi Layer Perceptron</h1>"
   ]
  },
  {
   "cell_type": "code",
   "execution_count": 1,
   "metadata": {},
   "outputs": [],
   "source": [
    "import numpy as np\n",
    "import pandas as pd\n",
    "from sklearn.neural_network import MLPClassifier\n",
    "from sklearn import preprocessing\n",
    "from sklearn.model_selection import train_test_split\n",
    "from sklearn.metrics import accuracy_score"
   ]
  },
  {
   "cell_type": "markdown",
   "metadata": {},
   "source": [
    "<h4>Importing and Visualizing Data</h4>"
   ]
  },
  {
   "cell_type": "code",
   "execution_count": 5,
   "metadata": {},
   "outputs": [],
   "source": [
    "data = pd.read_csv('Datasets/HR_comma_sep.csv')"
   ]
  },
  {
   "cell_type": "code",
   "execution_count": 23,
   "metadata": {},
   "outputs": [
    {
     "name": "stdout",
     "output_type": "stream",
     "text": [
      "       satisfaction_level  last_evaluation  number_project  \\\n",
      "0                    0.38             0.53               2   \n",
      "1                    0.80             0.86               5   \n",
      "2                    0.11             0.88               7   \n",
      "3                    0.72             0.87               5   \n",
      "4                    0.37             0.52               2   \n",
      "...                   ...              ...             ...   \n",
      "14994                0.40             0.57               2   \n",
      "14995                0.37             0.48               2   \n",
      "14996                0.37             0.53               2   \n",
      "14997                0.11             0.96               6   \n",
      "14998                0.37             0.52               2   \n",
      "\n",
      "       average_montly_hours  time_spend_company  Work_accident  left  \\\n",
      "0                       157                   3              0     1   \n",
      "1                       262                   6              0     1   \n",
      "2                       272                   4              0     1   \n",
      "3                       223                   5              0     1   \n",
      "4                       159                   3              0     1   \n",
      "...                     ...                 ...            ...   ...   \n",
      "14994                   151                   3              0     1   \n",
      "14995                   160                   3              0     1   \n",
      "14996                   143                   3              0     1   \n",
      "14997                   280                   4              0     1   \n",
      "14998                   158                   3              0     1   \n",
      "\n",
      "       promotion_last_5years  sales  salary  \n",
      "0                          0      7       1  \n",
      "1                          0      7       2  \n",
      "2                          0      7       2  \n",
      "3                          0      7       1  \n",
      "4                          0      7       1  \n",
      "...                      ...    ...     ...  \n",
      "14994                      0      8       1  \n",
      "14995                      0      8       1  \n",
      "14996                      0      8       1  \n",
      "14997                      0      8       1  \n",
      "14998                      0      8       1  \n",
      "\n",
      "[14999 rows x 10 columns]\n",
      "Size =  149990\n",
      "Shape =  (14999, 10)\n",
      "Dimensions =  2\n"
     ]
    }
   ],
   "source": [
    "print(data)\n",
    "print(\"Size = \", data.size)\n",
    "print(\"Shape = \", data.shape)\n",
    "print(\"Dimensions = \", data.ndim)"
   ]
  },
  {
   "cell_type": "markdown",
   "metadata": {},
   "source": [
    "<h4>Pre-processing</h4>"
   ]
  },
  {
   "cell_type": "code",
   "execution_count": 9,
   "metadata": {},
   "outputs": [],
   "source": [
    "label_encode = preprocessing.LabelEncoder()\n",
    "data['salary']=label_encode.fit_transform(data['salary'])\n",
    "data['sales']=label_encode.fit_transform(data['sales'])"
   ]
  },
  {
   "cell_type": "code",
   "execution_count": 15,
   "metadata": {},
   "outputs": [],
   "source": [
    "\n",
    "x=data[['satisfaction_level', 'last_evaluation', 'number_project', 'average_montly_hours', 'time_spend_company', 'Work_accident']]\n",
    "y=data['left']\n"
   ]
  },
  {
   "cell_type": "code",
   "execution_count": 16,
   "metadata": {},
   "outputs": [],
   "source": [
    "x_train, x_test, y_train, y_test = train_test_split(x, y, test_size=0.2, random_state=0)"
   ]
  },
  {
   "cell_type": "markdown",
   "metadata": {},
   "source": [
    "<h4>Model</h4>"
   ]
  },
  {
   "cell_type": "code",
   "execution_count": 17,
   "metadata": {},
   "outputs": [
    {
     "name": "stdout",
     "output_type": "stream",
     "text": [
      "Iteration 1, loss = 1.31831040\n",
      "Iteration 2, loss = 0.55158027\n",
      "Iteration 3, loss = 0.55370388\n",
      "Iteration 4, loss = 0.55182914\n",
      "Iteration 5, loss = 0.55251806\n",
      "Iteration 6, loss = 0.55275262\n",
      "Iteration 7, loss = 0.55364338\n",
      "Iteration 8, loss = 0.55406370\n",
      "Iteration 9, loss = 0.55260403\n",
      "Iteration 10, loss = 0.55279956\n",
      "Iteration 11, loss = 0.55244164\n",
      "Iteration 12, loss = 0.55333899\n",
      "Iteration 13, loss = 0.55295039\n",
      "Training loss did not improve more than tol=0.000100 for 10 consecutive epochs. Stopping.\n"
     ]
    },
    {
     "data": {
      "text/plain": [
       "MLPClassifier(hidden_layer_sizes=(2,), learning_rate_init=0.9, random_state=1,\n",
       "              verbose=True)"
      ]
     },
     "execution_count": 17,
     "metadata": {},
     "output_type": "execute_result"
    }
   ],
   "source": [
    "clf = MLPClassifier(hidden_layer_sizes=(2,),random_state=1,verbose=True,learning_rate_init=0.9)\n",
    "clf.fit(x_train,y_train)"
   ]
  },
  {
   "cell_type": "markdown",
   "metadata": {},
   "source": [
    "<h4>Testing</h4>"
   ]
  },
  {
   "cell_type": "code",
   "execution_count": 18,
   "metadata": {},
   "outputs": [
    {
     "data": {
      "text/plain": [
       "0.7663333333333333"
      ]
     },
     "execution_count": 18,
     "metadata": {},
     "output_type": "execute_result"
    }
   ],
   "source": [
    "ypred=clf.predict(x_test)\n",
    "accuracy_score(y_test,ypred)"
   ]
  },
  {
   "cell_type": "code",
   "execution_count": 19,
   "metadata": {},
   "outputs": [],
   "source": [
    "clf = MLPClassifier(hidden_layer_sizes=(2,),random_state=5,verbose=True,learning_rate_init=0.9)"
   ]
  },
  {
   "cell_type": "code",
   "execution_count": 20,
   "metadata": {},
   "outputs": [
    {
     "name": "stdout",
     "output_type": "stream",
     "text": [
      "Iteration 1, loss = 2.31720920\n",
      "Iteration 2, loss = 0.55157025\n",
      "Iteration 3, loss = 0.55255225\n",
      "Iteration 4, loss = 0.55263248\n",
      "Iteration 5, loss = 0.55235353\n",
      "Iteration 6, loss = 0.55140490\n",
      "Iteration 7, loss = 0.55314343\n",
      "Iteration 8, loss = 0.55185552\n",
      "Iteration 9, loss = 0.55204045\n",
      "Iteration 10, loss = 0.55171959\n",
      "Iteration 11, loss = 0.55240440\n",
      "Iteration 12, loss = 0.55352974\n",
      "Iteration 13, loss = 0.55347584\n",
      "Iteration 14, loss = 0.55215951\n",
      "Iteration 15, loss = 0.55420317\n",
      "Iteration 16, loss = 0.55346554\n",
      "Iteration 17, loss = 0.55311539\n",
      "Training loss did not improve more than tol=0.000100 for 10 consecutive epochs. Stopping.\n"
     ]
    },
    {
     "data": {
      "text/plain": [
       "MLPClassifier(hidden_layer_sizes=(2,), learning_rate_init=0.9, random_state=5,\n",
       "              verbose=True)"
      ]
     },
     "execution_count": 20,
     "metadata": {},
     "output_type": "execute_result"
    }
   ],
   "source": [
    "clf.fit(x_train,y_train)"
   ]
  },
  {
   "cell_type": "code",
   "execution_count": 21,
   "metadata": {},
   "outputs": [
    {
     "data": {
      "text/plain": [
       "0.7663333333333333"
      ]
     },
     "execution_count": 21,
     "metadata": {},
     "output_type": "execute_result"
    }
   ],
   "source": [
    "ypred=clf.predict(x_test)\n",
    "accuracy_score(y_test,ypred)"
   ]
  },
  {
   "cell_type": "code",
   "execution_count": null,
   "metadata": {},
   "outputs": [],
   "source": []
  }
 ],
 "metadata": {
  "kernelspec": {
   "display_name": "Python 3.8.10 64-bit (microsoft store)",
   "language": "python",
   "name": "python3"
  },
  "language_info": {
   "codemirror_mode": {
    "name": "ipython",
    "version": 3
   },
   "file_extension": ".py",
   "mimetype": "text/x-python",
   "name": "python",
   "nbconvert_exporter": "python",
   "pygments_lexer": "ipython3",
   "version": "3.8.10"
  },
  "orig_nbformat": 4,
  "vscode": {
   "interpreter": {
    "hash": "2c6705cc57ed747ef2461007aee654db1d4f83bc8f2450a7e48810799b9c4610"
   }
  }
 },
 "nbformat": 4,
 "nbformat_minor": 2
}
